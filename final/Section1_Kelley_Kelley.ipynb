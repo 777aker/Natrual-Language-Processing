{
 "cells": [
  {
   "cell_type": "markdown",
   "metadata": {},
   "source": [
    "## Kelley Kelley\n",
    "## Section 1"
   ]
  },
  {
   "cell_type": "markdown",
   "metadata": {},
   "source": [
    "Question 1:\n",
    "\n",
    "An NLP system's vocabulary is all the known tokens of the NLP system. The tokens are usually gotten from the training data. Unknown words are tokens that are not in the vocab, and therefore the system may not know what to do about them.\n",
    "\n",
    "Dealing with unknown words is relevant for **some** NLP tasks. There are tasks like sentiment analysis that will have a lot of unknown words because of differing restuarant names or movie titles, however you don't need to deal with them since what matters are words like happy and sad which should be in the vocabulary. There are also cases where you have to deal with unknown words like NER since unknown words will often be the named entities you are trying to identify. "
   ]
  },
  {
   "cell_type": "markdown",
   "metadata": {},
   "source": [
    "Question 2:\n",
    "\n",
    "In sentence 1 \"Street!\" will be treated as one word while in sentence 2 \"Street\" and \"!\" will be seperate entities. This means in a downstream task that generates sentences, in the middle of a sentence right after \"Sesame\" would be \"Street!\" which could create major grammar problems. However in sentence 2 \"!\" is its own entity and will therefore more likely show up at the end of a sentence. "
   ]
  },
  {
   "cell_type": "markdown",
   "metadata": {},
   "source": [
    "Queston 3:\n",
    "\n",
    "<mark style=\"background-color: yellow !important; font-weight:bold\"> False </mark>"
   ]
  },
  {
   "cell_type": "markdown",
   "metadata": {},
   "source": [
    "Citations:\n",
    "\n",
    "None"
   ]
  }
 ],
 "metadata": {
  "kernelspec": {
   "display_name": "Python 3",
   "language": "python",
   "name": "python3"
  },
  "language_info": {
   "codemirror_mode": {
    "name": "ipython",
    "version": 3
   },
   "file_extension": ".py",
   "mimetype": "text/x-python",
   "name": "python",
   "nbconvert_exporter": "python",
   "pygments_lexer": "ipython3",
   "version": "3.7.3"
  }
 },
 "nbformat": 4,
 "nbformat_minor": 2
}
